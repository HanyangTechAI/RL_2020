{
  "nbformat": 4,
  "nbformat_minor": 0,
  "metadata": {
    "colab": {
      "name": "1. Introduction to Reinforcement Learning with OpenAI Gym-checkpoint.ipynb",
      "provenance": []
    },
    "kernelspec": {
      "name": "python3",
      "display_name": "Python 3"
    },
    "accelerator": "GPU"
  },
  "cells": [
    {
      "cell_type": "markdown",
      "metadata": {
        "id": "kd6GdUs0j8lq",
        "colab_type": "text"
      },
      "source": [
        "## 강화학습(Reinforcement Learning)이란?\n",
        "위키피디아에 따르면 강화학습의 정의는 다음과 같다.\n",
        ">어떤 환경 안에서 정의된 에이전트가 현재의 상태를 인식하여, 선택 가능한 행동 중 보상을 최대화하는 행동 혹은 행동 순서를 선택하는 방법\n",
        "\n",
        "강화학습은 **정답이나 잘못된 선택에 대한 정정이 주어지지 않는** 특징이 있다. 그렇기에 MDP(Markov Decision Process)를 정의해 강화학습 문제를 푼다.\n",
        "\n",
        "### 예시\n",
        "- [AlphaGo](https://deepmind.com/research/case-studies/alphago-the-story-so-far)\n",
        "- [AlphaStar](https://deepmind.com/research/publications/AlphaStar-Grandmaster-level-in-StarCraft-II-using-multi-agent-reinforcement-learning)"
      ]
    },
    {
      "cell_type": "markdown",
      "metadata": {
        "id": "ra-aUqUsswrk",
        "colab_type": "text"
      },
      "source": [
        "## MDP(Markov Decision Process)\n",
        "강화학습 문제를 풀 땐 MDP를 잘 정의하는 게 우선이다. MDP는 다음 구성요소를 가진다.\n",
        "- 상태 (State)\n",
        "- 행동 (Action)\n",
        "- 보상 (Reward)\n",
        "- 상태 변환 확률 (State Transition Probability)\n",
        "- 감가율 (Discount Factor)\n",
        "\n",
        "이제 MDP의 각 요소가 무엇인지 알아보자."
      ]
    },
    {
      "cell_type": "markdown",
      "metadata": {
        "id": "KeWsAp17ndip",
        "colab_type": "text"
      },
      "source": [
        "### 상태 (State)\n",
        "현재 에이전트의 정보이다. 이때 정보는 에이전트가 얻을 수 있는 것의 집합이다.\n",
        "\n",
        "바둑에선 바둑판이 state가 될 수 있고, 스타크래프트에선 미니맵이나 화면 등이 state가 될 수 있다."
      ]
    },
    {
      "cell_type": "markdown",
      "metadata": {
        "id": "Uu3XZ9fGniYN",
        "colab_type": "text"
      },
      "source": [
        "### 행동 (Action)\n",
        "에이전트가 어떤 상태에서 할 수 있는 행동의 집합이다.\n",
        "\n",
        "바둑에선 돌을 놓을 수 있는 위치의 집합이 action이 될 수 있다."
      ]
    },
    {
      "cell_type": "markdown",
      "metadata": {
        "id": "tNtS_rgPnm7C",
        "colab_type": "text"
      },
      "source": [
        "### 보상 (Reward)\n",
        "에이전트가 학습하는데 참고할 수 있는 **유일한** 정보다. 에이전트는 보상을 많이 받는 방향으로 학습해야 한다.\n",
        "\n",
        "이겼으면 1점, 졌으면 -1점. 혹은 여러 복잡한 방식으로 보상을 정의할 수 있다."
      ]
    },
    {
      "cell_type": "markdown",
      "metadata": {
        "id": "SpMHufAhnpyh",
        "colab_type": "text"
      },
      "source": [
        "### 상태 변환 확률 (State Transition Probability)\n",
        "어떤 상태에서 다른 상태로 변하지 못할 수도 있다. 예컨대 미로찾기에서 벽을 뚫을 순 없다. 또한, A에서 B로 변환될 확률보다 A에서 C로 변환될 확률이 높을 수도 있다.\n",
        "이처럼 상태의 변화엔 확률적인 요인이 들어가는데, 이를 수치적으로 표현한 것이 상태 변환 확률이다."
      ]
    },
    {
      "cell_type": "markdown",
      "metadata": {
        "id": "IWsxztpinrsx",
        "colab_type": "text"
      },
      "source": [
        "### 감가율 (Discount Factor)\n",
        "같은 양의 보상이면 먼 미래에 받는 것보단 바로 받는 게 이득이다. 이를 수학적으로 표현한 것이다.\n",
        "\n",
        "가령 감가율을 0.9라 하자. 지금 바로 100의 보상을 받는다면 100이지만, 감가율을 적용한다면 2턴 후에 주어지는 100의 보상은 0.9 × 0.9 × 100 = 81로 가치가 줄어든다."
      ]
    },
    {
      "cell_type": "markdown",
      "metadata": {
        "id": "nK-M4eB9TP5f",
        "colab_type": "text"
      },
      "source": [
        "## OpenAI Gym\n",
        "강화학습엔 환경(environment)이 필요하다. OpenAI Gym는  다양한 강화학습 환경을 제공한다.\n",
        "\n",
        "이제 OpenAI Gym을 설치해 본격적으로 강화학습을 실습해보자.\n"
      ]
    },
    {
      "cell_type": "code",
      "metadata": {
        "id": "eMevRkF7YwuC",
        "colab_type": "code",
        "outputId": "ef63525e-2de6-428e-eb0a-0803e4c42b6d",
        "colab": {
          "base_uri": "https://localhost:8080/",
          "height": 341
        }
      },
      "source": [
        "# 필요한 패키지를 설치해준다.\n",
        "!cat requirements.txt\n",
        "!echo '----------------------------------'\n",
        "!pip install -r requirements.txt"
      ],
      "execution_count": 1,
      "outputs": [
        {
          "output_type": "stream",
          "text": [
            "gym\r\n",
            "numpy\r\n",
            "matplotlib\r\n",
            "----------------------------------\n",
            "Requirement already satisfied: gym in /usr/local/lib/python3.6/dist-packages (from -r requirements.txt (line 1)) (0.15.4)\n",
            "Requirement already satisfied: numpy in /usr/local/lib/python3.6/dist-packages (from -r requirements.txt (line 2)) (1.17.5)\n",
            "Requirement already satisfied: matplotlib in /usr/local/lib/python3.6/dist-packages (from -r requirements.txt (line 3)) (3.1.2)\n",
            "Requirement already satisfied: six in /usr/local/lib/python3.6/dist-packages (from gym->-r requirements.txt (line 1)) (1.12.0)\n",
            "Requirement already satisfied: scipy in /usr/local/lib/python3.6/dist-packages (from gym->-r requirements.txt (line 1)) (1.4.1)\n",
            "Requirement already satisfied: cloudpickle~=1.2.0 in /usr/local/lib/python3.6/dist-packages (from gym->-r requirements.txt (line 1)) (1.2.2)\n",
            "Requirement already satisfied: opencv-python in /usr/local/lib/python3.6/dist-packages (from gym->-r requirements.txt (line 1)) (4.1.2.30)\n",
            "Requirement already satisfied: pyglet<=1.3.2,>=1.2.0 in /usr/local/lib/python3.6/dist-packages (from gym->-r requirements.txt (line 1)) (1.3.2)\n",
            "Requirement already satisfied: cycler>=0.10 in /usr/local/lib/python3.6/dist-packages (from matplotlib->-r requirements.txt (line 3)) (0.10.0)\n",
            "Requirement already satisfied: pyparsing!=2.0.4,!=2.1.2,!=2.1.6,>=2.0.1 in /usr/local/lib/python3.6/dist-packages (from matplotlib->-r requirements.txt (line 3)) (2.4.6)\n",
            "Requirement already satisfied: kiwisolver>=1.0.1 in /usr/local/lib/python3.6/dist-packages (from matplotlib->-r requirements.txt (line 3)) (1.1.0)\n",
            "Requirement already satisfied: python-dateutil>=2.1 in /usr/local/lib/python3.6/dist-packages (from matplotlib->-r requirements.txt (line 3)) (2.6.1)\n",
            "Requirement already satisfied: future in /usr/local/lib/python3.6/dist-packages (from pyglet<=1.3.2,>=1.2.0->gym->-r requirements.txt (line 1)) (0.16.0)\n",
            "Requirement already satisfied: setuptools in /usr/local/lib/python3.6/dist-packages (from kiwisolver>=1.0.1->matplotlib->-r requirements.txt (line 3)) (42.0.2)\n"
          ],
          "name": "stdout"
        }
      ]
    },
    {
      "cell_type": "markdown",
      "metadata": {
        "id": "NImuLvpYa2y6",
        "colab_type": "text"
      },
      "source": [
        "## Frozen Lake\n",
        "처음으로 실습할 환경은 ***Frozen Lake***다. Frozen Lake는 에이전트가 구멍을 피해 얼어있는 강을 건너는 환경이다.\n",
        "\n",
        "판의 크기는 4 by 4로 총 16칸이며, 에이전트는 상하좌우로 한 칸 이동할 수 있다."
      ]
    },
    {
      "cell_type": "code",
      "metadata": {
        "id": "z93Sx8FnY9hc",
        "colab_type": "code",
        "colab": {}
      },
      "source": [
        "# 다음 코드를 통해 FrozenLake 환경을 불러올 수 있다.\n",
        "import gym\n",
        "\n",
        "env = gym.make(\"FrozenLake-v0\")"
      ],
      "execution_count": 0,
      "outputs": []
    },
    {
      "cell_type": "code",
      "metadata": {
        "id": "9mprDLfVaEkX",
        "colab_type": "code",
        "outputId": "3f1738e1-741e-4d42-f290-5f91218d78cd",
        "colab": {
          "base_uri": "https://localhost:8080/",
          "height": 179
        }
      },
      "source": [
        "# 환경에 관한 정보는 다음과 같이 얻을 수 있다.\n",
        "\n",
        "print('Observation Space:', env.observation_space)\n",
        "print('Observation Space Size:', env.observation_space.n)\n",
        "print('Action Space:', env.action_space)\n",
        "print('Action Space Size:', env.action_space.n)\n",
        "\n",
        "env.render()"
      ],
      "execution_count": 3,
      "outputs": [
        {
          "output_type": "stream",
          "text": [
            "Observation Space: Discrete(16)\n",
            "Observation Space Size: 16\n",
            "Action Space: Discrete(4)\n",
            "Action Space Size: 4\n",
            "\n",
            "\u001b[41mS\u001b[0mFFF\n",
            "FHFH\n",
            "FFFH\n",
            "HFFG\n"
          ],
          "name": "stdout"
        }
      ]
    },
    {
      "cell_type": "code",
      "metadata": {
        "id": "xfBlEi2P3mBC",
        "colab_type": "code",
        "outputId": "39535145-595b-402d-b6f9-4413ebb92539",
        "colab": {
          "base_uri": "https://localhost:8080/",
          "height": 89
        }
      },
      "source": [
        "# episode를 시작하기 전엔 reset 메소드를 호출해야한다.\n",
        "# reset 메소드는 state를 반환한다.\n",
        "state = env.reset()\n",
        "print(state)\n",
        "\n",
        "# step 메소드를 이용해 한 스텝 진행할 수 있다.\n",
        "# step 메소드는 새로운 state, 보상, 끝났는지 여부, 기타 정보를 반환한다.\n",
        "next_state, reward, done, _ = env.step(env.action_space.sample())\n",
        "print('next_state:', next_state)\n",
        "print('reward:', reward)\n",
        "print('done:', done)"
      ],
      "execution_count": 4,
      "outputs": [
        {
          "output_type": "stream",
          "text": [
            "0\n",
            "next_state: 0\n",
            "reward: 0.0\n",
            "done: False\n"
          ],
          "name": "stdout"
        }
      ]
    },
    {
      "cell_type": "code",
      "metadata": {
        "id": "Ue4hyl09awtI",
        "colab_type": "code",
        "outputId": "e6c02a8b-a788-449c-d9f4-f7441d0ba74e",
        "colab": {
          "base_uri": "https://localhost:8080/",
          "height": 395
        }
      },
      "source": [
        "# 지금까지 배운 내용으로 무작위로 행동하는 에이전트를 만들어보자.\n",
        "\n",
        "# 환경을 만든다\n",
        "env = gym.make('FrozenLake-v0')\n",
        "\n",
        "# Episode를 시작하기 전엔 반드시 reset 메소드를 호출해야한다.\n",
        "state = env.reset()\n",
        "\n",
        "while True:\n",
        "  # 환경을 출력한다.\n",
        "  env.render()\n",
        "\n",
        "  # Action space에서 무작위 행동을 가져온다.\n",
        "  action = env.action_space.sample()\n",
        "\n",
        "  # 생성한 action을 바탕으로 한 스텝 진행한다.\n",
        "  new_state, reward, done, _ = env.step(action)\n",
        "\n",
        "  # Episode가 끝났다면 반복문을 빠져나간다.\n",
        "  if done:\n",
        "    print(reward)\n",
        "    break\n",
        "\n",
        "  # state에 새로운 state를 할당한다. (지금은 의미 없음)\n",
        "  state = new_state\n"
      ],
      "execution_count": 5,
      "outputs": [
        {
          "output_type": "stream",
          "text": [
            "\n",
            "\u001b[41mS\u001b[0mFFF\n",
            "FHFH\n",
            "FFFH\n",
            "HFFG\n",
            "  (Right)\n",
            "\u001b[41mS\u001b[0mFFF\n",
            "FHFH\n",
            "FFFH\n",
            "HFFG\n",
            "  (Right)\n",
            "\u001b[41mS\u001b[0mFFF\n",
            "FHFH\n",
            "FFFH\n",
            "HFFG\n",
            "  (Left)\n",
            "SFFF\n",
            "\u001b[41mF\u001b[0mHFH\n",
            "FFFH\n",
            "HFFG\n",
            "0.0\n"
          ],
          "name": "stdout"
        }
      ]
    },
    {
      "cell_type": "markdown",
      "metadata": {
        "id": "Ej_d2Fi93w8X",
        "colab_type": "text"
      },
      "source": [
        "## Q Learning\n",
        "어떤 상황 *s*에서 어떤 행동 *a*의 가치를 Q(s, a)라 하자. 그렇다면 가장 좋은 행동은 Q(s, a)가 가장 큰 *a*이다.\n",
        "\n",
        "그렇다면 Q 값은 어떻게 구할까? 보상(reward)를 바탕으로 Q 값을 갱신하면 된다."
      ]
    },
    {
      "cell_type": "code",
      "metadata": {
        "id": "fJ80OBbzCNcD",
        "colab_type": "code",
        "colab": {}
      },
      "source": [
        "import random\n",
        "import numpy as np\n",
        "from collections import defaultdict\n",
        "\n",
        "# Q-Learning를 이용한 에이전트를 만들자.\n",
        "class Agent:\n",
        "  def __init__(self, actions):\n",
        "    # 할 수 있는 행동의 집합\n",
        "    self.actions = actions\n",
        "\n",
        "    # 학습률로, 한 번에 얼마나 학습할지 결정한다.\n",
        "    self.learning_rate = 0.85\n",
        "\n",
        "    # 감가율\n",
        "    self.discount_factor = 0.9\n",
        "\n",
        "    # 무작위로 행동을 선택할 비율이다.\n",
        "    # 강화학습에선 탐험이 중요하기 때문에 무작위 선택도 넣는다.\n",
        "    self.epsilon = 0.9\n",
        "\n",
        "    # Q(s, a)를 담아둔 테이블이다\n",
        "    self.q_table = defaultdict(lambda: [0. for _ in range(actions.n)])\n",
        "\n",
        "  # state를 받아 할 행동을 구하는 메소드\n",
        "  def get_action(self, state):\n",
        "    if random.random() < self.epsilon:\n",
        "      # 일정한 확률로 임의의 행동을 한다.\n",
        "      return self.actions.sample()\n",
        "    else:\n",
        "      q_values = self.q_table[state]\n",
        "      return np.argmax(q_values)\n",
        "\n",
        "  # 보상을 바탕으로 Q table을 업데이트 하는 메소드\n",
        "  def train(self, state, action, reward, next_state):\n",
        "    q1 = self.q_table[state][action]\n",
        "    q2 = reward + self.discount_factor * max(self.q_table[next_state])\n",
        "\n",
        "    self.q_table[state][action] += self.learning_rate * (q2 - q1)"
      ],
      "execution_count": 0,
      "outputs": []
    },
    {
      "cell_type": "code",
      "metadata": {
        "id": "4etWGID7vA2X",
        "colab_type": "code",
        "colab": {}
      },
      "source": [
        "# 위에서 만든 에이전트를 바탕으로 학습을 시켜보자.\n",
        "# 다만, 문제를 조금 쉽게 하기 위해 미끄럼 방지를 켜둔다.\n",
        "env = gym.make('FrozenLake-v0', is_slippery=False)\n",
        "agent = Agent(env.action_space)\n",
        "\n",
        "# 시간에 따른 보상의 변화를 보기 위해 받은 보상을 저장해두자.\n",
        "rewards = []\n",
        "\n",
        "# 1000 에피소드를 수행한다.\n",
        "for episode in range(1, 3000 + 1):\n",
        "  state = env.reset()\n",
        "\n",
        "  episode_rewards = []\n",
        "  while True:\n",
        "    action = agent.get_action(state)\n",
        "    next_state, reward, done, _ = env.step(action)\n",
        "\n",
        "    if done:\n",
        "      # 만약 죽었다면 음의 보상을 준다.\n",
        "      if reward == 0:\n",
        "        reward = -1\n",
        "\n",
        "      agent.train(state, action, reward, next_state)\n",
        "      episode_rewards.append(reward)\n",
        "      break\n",
        "    else:\n",
        "      agent.train(state, action, reward, next_state)\n",
        "      episode_rewards.append(reward)\n",
        "\n",
        "    state = next_state\n",
        "\n",
        "  rewards.append(sum(episode_rewards) / len(episode_rewards))"
      ],
      "execution_count": 0,
      "outputs": []
    },
    {
      "cell_type": "code",
      "metadata": {
        "id": "DkwhUb8ZxboH",
        "colab_type": "code",
        "outputId": "ba1c45ce-abff-423f-c56e-257174a33028",
        "colab": {
          "base_uri": "https://localhost:8080/",
          "height": 283
        }
      },
      "source": [
        "# 이제 그래프를 그려보자\n",
        "import matplotlib.pyplot as plt\n",
        "%matplotlib inline\n",
        "\n",
        "X = [i for i in range(1, 3000 + 1)]\n",
        "\n",
        "plt.plot(X, rewards)\n",
        "plt.xlabel('Episode')\n",
        "plt.ylabel('Reward')\n",
        "\n",
        "plt.show()"
      ],
      "execution_count": 8,
      "outputs": [
        {
          "output_type": "display_data",
          "data": {
            "image/png": "[encoded data removed]",
            "text/plain": [
              "<Figure size 432x288 with 1 Axes>"
            ]
          },
          "metadata": {
            "tags": []
          }
        }
      ]
    },
    {
      "cell_type": "code",
      "metadata": {
        "id": "CU5-f7rrxtSU",
        "colab_type": "code",
        "outputId": "13d0f619-9a55-4126-a9aa-7fb559274ca2",
        "colab": {
          "base_uri": "https://localhost:8080/",
          "height": 773
        }
      },
      "source": [
        "# 에이전트가 정상적으로 학습이 됐는지 확인하기 위해 epsilon을 0으로 하고 에피소드를 수행해보자.\n",
        "state = env.reset()\n",
        "agent.epsilon = 0\n",
        "\n",
        "while True:\n",
        "  env.render()\n",
        "\n",
        "  print(agent.q_table[state])\n",
        "\n",
        "  action = agent.get_action(state)\n",
        "  next_state, reward, done, _ = env.step(action)\n",
        "\n",
        "  state = next_state\n",
        "\n",
        "  if done:\n",
        "    print('Solved!')\n",
        "    env.render()\n",
        "    break"
      ],
      "execution_count": 9,
      "outputs": [
        {
          "output_type": "stream",
          "text": [
            "\n",
            "\u001b[41mS\u001b[0mFFF\n",
            "FHFH\n",
            "FFFH\n",
            "HFFG\n",
            "[0.5314410000000002, 0.5904900000000002, 0.5904900000000002, 0.5314410000000002]\n",
            "  (Down)\n",
            "SFFF\n",
            "\u001b[41mF\u001b[0mHFH\n",
            "FFFH\n",
            "HFFG\n",
            "[0.5904900000000002, 0.6561000000000001, -1.0, 0.5314410000000002]\n",
            "  (Down)\n",
            "SFFF\n",
            "FHFH\n",
            "\u001b[41mF\u001b[0mFFH\n",
            "HFFG\n",
            "[0.6561000000000001, -1.0, 0.7290000000000001, 0.5904900000000002]\n",
            "  (Right)\n",
            "SFFF\n",
            "FHFH\n",
            "F\u001b[41mF\u001b[0mFH\n",
            "HFFG\n",
            "[0.6561000000000001, 0.81, 0.81, -1.0]\n",
            "  (Down)\n",
            "SFFF\n",
            "FHFH\n",
            "FFFH\n",
            "H\u001b[41mF\u001b[0mFG\n",
            "[-1.0, 0.81, 0.9, 0.7290000000000001]\n",
            "  (Right)\n",
            "SFFF\n",
            "FHFH\n",
            "FFFH\n",
            "HF\u001b[41mF\u001b[0mG\n",
            "[0.81, 0.9, 1.0, 0.81]\n",
            "Solved!\n",
            "  (Right)\n",
            "SFFF\n",
            "FHFH\n",
            "FFFH\n",
            "HFF\u001b[41mG\u001b[0m\n"
          ],
          "name": "stdout"
        }
      ]
    }
  ]
}